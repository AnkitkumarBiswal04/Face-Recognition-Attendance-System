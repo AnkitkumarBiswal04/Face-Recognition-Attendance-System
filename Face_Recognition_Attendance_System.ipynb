{
  "nbformat": 4,
  "nbformat_minor": 0,
  "metadata": {
    "colab": {
      "provenance": [],
      "authorship_tag": "ABX9TyN+qwqnxpsG3D49DRRVfDVQ",
      "include_colab_link": true
    },
    "kernelspec": {
      "name": "python3",
      "display_name": "Python 3"
    },
    "language_info": {
      "name": "python"
    }
  },
  "cells": [
    {
      "cell_type": "markdown",
      "metadata": {
        "id": "view-in-github",
        "colab_type": "text"
      },
      "source": [
        "<a href=\"https://colab.research.google.com/github/AnkitkumarBiswal04/Face-Recognition-Attendance-System/blob/main/Face_Recognition_Attendance_System.ipynb\" target=\"_parent\"><img src=\"https://colab.research.google.com/assets/colab-badge.svg\" alt=\"Open In Colab\"/></a>"
      ]
    },
    {
      "cell_type": "markdown",
      "source": [
        "**IMPORTING IMPORTANT PACKAGES**\n",
        "\n"
      ],
      "metadata": {
        "id": "9plY6earSNxd"
      }
    },
    {
      "cell_type": "code",
      "execution_count": 9,
      "metadata": {
        "id": "-tpDDCgtCDAb"
      },
      "outputs": [],
      "source": [
        "import cv2 #package to open the web camera\n",
        "import numpy as np #numpy to create the array\n",
        "import os #to read and write file on os\n",
        "import pickle #pickle is used to save our dataset"
      ]
    },
    {
      "cell_type": "code",
      "source": [
        "#to import the dataset for this project we are going to use the web camera to detect\n",
        "video=cv2.VideoCapture(0) # 0 is nothing but web camera to cpture the face\n",
        "facedetect=cv2.CascadeClassifier('/content/haarcascade_frontalface_default.xml') #to detect the face"
      ],
      "metadata": {
        "id": "edARw6GdC1bw"
      },
      "execution_count": 11,
      "outputs": []
    },
    {
      "cell_type": "code",
      "source": [
        "face_data=[] #to store the face data"
      ],
      "metadata": {
        "id": "qRuTWnp5RrMj"
      },
      "execution_count": 12,
      "outputs": []
    },
    {
      "cell_type": "code",
      "source": [
        "i=0\n",
        "name=input(\"Enter your name :\")"
      ],
      "metadata": {
        "id": "Yzamtc49Rzd0"
      },
      "execution_count": null,
      "outputs": []
    },
    {
      "cell_type": "markdown",
      "source": [
        "**HOW DO WE NOW USE WEB CAMERA TO DETECT THE FACES**"
      ],
      "metadata": {
        "id": "T56RPFZtScMH"
      }
    },
    {
      "cell_type": "code",
      "source": [],
      "metadata": {
        "id": "SeIfYtSqSI9f"
      },
      "execution_count": null,
      "outputs": []
    }
  ]
}