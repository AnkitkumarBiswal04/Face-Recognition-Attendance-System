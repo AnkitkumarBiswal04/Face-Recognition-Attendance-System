{
  "nbformat": 4,
  "nbformat_minor": 0,
  "metadata": {
    "colab": {
      "provenance": [],
      "authorship_tag": "ABX9TyMZOFbfI9Y/VKEkTfm+ZjfV",
      "include_colab_link": true
    },
    "kernelspec": {
      "name": "python3",
      "display_name": "Python 3"
    },
    "language_info": {
      "name": "python"
    }
  },
  "cells": [
    {
      "cell_type": "markdown",
      "metadata": {
        "id": "view-in-github",
        "colab_type": "text"
      },
      "source": [
        "<a href=\"https://colab.research.google.com/github/AnkitkumarBiswal04/Face-Recognition-Attendance-System/blob/main/Face_Recognition_Attendance_System.ipynb\" target=\"_parent\"><img src=\"https://colab.research.google.com/assets/colab-badge.svg\" alt=\"Open In Colab\"/></a>"
      ]
    },
    {
      "cell_type": "code",
      "execution_count": 4,
      "metadata": {
        "id": "-tpDDCgtCDAb"
      },
      "outputs": [],
      "source": [
        "import cv2 #package to open the web camera\n",
        "import numpy as np #numpy to create the array\n",
        "import os #to read and write file on os\n",
        "import pickle #pickle is used to save our dataset"
      ]
    },
    {
      "cell_type": "code",
      "source": [
        "video=cv2.VideoCapture(0)"
      ],
      "metadata": {
        "id": "edARw6GdC1bw"
      },
      "execution_count": 5,
      "outputs": []
    }
  ]
}